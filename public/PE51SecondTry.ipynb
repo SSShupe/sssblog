{
 "cells": [
  {
   "cell_type": "markdown",
   "metadata": {},
   "source": [
    "I didn't try to make this as fast as it could be, this is definitely \"brute force.\"\n",
    "    \n",
    "The algorithm is:\n",
    "    \n",
    "    (1) Take all primes between 100000 and 999999. (Hoped the solution would be in this range.)\n",
    "    \n",
    "    (2) Obtain all possible combinations of 3-digit replacement locations. (A number with a sum-of-digits\n",
    "        equal to 3 is divisible by 3 and thus can't be prime. Single- and two-digit replacements would\n",
    "        \"knock out\" enough primes in a family so that we could never get 8 primes in a family. But 3-digit\n",
    "        replacements, resulting in a digit-sum increase (or decrease) that is always a multiple of 3, don't\n",
    "        have that problem. We can thus limit ourselves to 3-digit replacements.) I used Julia's \"Combinatorics\"\n",
    "        package to get all the possible combinations (shown as the \"replacementDigits\" variable below.)\n",
    "        \n",
    "    (3) Loop through the prime list, converting them to an array of individual character strings,\n",
    "        and replace digits at the specified locations by 0 through 9. Julia makes this easier due to\n",
    "        its \"broadcasting\" abilities. The line \"mem[j] .= string(i)\" is the key. This replaces the digits at\n",
    "        the specified replacementDigit locations with 0 - 9 one loop at a time. Each time, the string digits\n",
    "        are re-Integerized and checked for primeness. If prime, the counter is incremented and the prime is\n",
    "        added to the family prime list (as a check).\n",
    "        \n",
    "    (4) Map this function on the list of primes.\n",
    "    \n",
    "    (5) Check to see which families have 8 primes, and which prime in those families is smallest.\n",
    "            \n",
    "It works! And since this problem stumped me for a long, long time (due to some small errors I missed in my\n",
    "program), I can say that this solution is more straightforward and shorter than many I've seen, even if it\n",
    "is, as noted above, a \"brute force\" solution."
   ]
  },
  {
   "cell_type": "code",
   "execution_count": 1,
   "metadata": {},
   "outputs": [],
   "source": [
    "using Primes\n",
    "using Combinatorics"
   ]
  },
  {
   "cell_type": "code",
   "execution_count": 2,
   "metadata": {},
   "outputs": [],
   "source": [
    "ps = Primes.primes(100000, 999999);"
   ]
  },
  {
   "cell_type": "code",
   "execution_count": 3,
   "metadata": {},
   "outputs": [
    {
     "data": {
      "text/plain": [
       "createFamilyCheckPrime2 (generic function with 1 method)"
      ]
     },
     "execution_count": 3,
     "metadata": {},
     "output_type": "execute_result"
    }
   ],
   "source": [
    "function createFamilyCheckPrime2(n)\n",
    "    results = []\n",
    "    replacementDigits = [[1, 2, 3], [1, 2, 4], [1, 2, 5], [1, 3, 4], [1, 3, 5], [1, 4, 5],[2, 3, 4], [2, 3, 5], [2, 3, 6], [2, 4, 5], [2, 4, 6], [2, 5, 6], [3, 4, 5], [3, 4, 6], [3, 5, 6], [4, 5, 6]]\n",
    "    for j in replacementDigits\n",
    "        mem = split(string(n), \"\")\n",
    "        fam = []\n",
    "        cntr = 0\n",
    "        for i in 0:9\n",
    "            mem[j] .= string(i)\n",
    "            # @show mem\n",
    "            if Primes.isprime(parse(Int, join(mem))) && parse(Int, join(mem)) >= 100000\n",
    "                cntr += 1\n",
    "                push!(fam, parse(Int, join(mem)))\n",
    "            end\n",
    "        end\n",
    "        push!(results, (cntr, n, fam))\n",
    "    end\n",
    "    return results\n",
    "end"
   ]
  },
  {
   "cell_type": "code",
   "execution_count": 6,
   "metadata": {},
   "outputs": [],
   "source": [
    "rslts = map(x->createFamilyCheckPrime2(x), ps);\n",
    "\n",
    "#for i in rslts\n",
    "#    for j in i\n",
    "#        if j[1] == 8\n",
    "#            println(j)\n",
    "#        end\n",
    "#    end\n",
    "#end\n"
   ]
  }
 ],
 "metadata": {
  "kernelspec": {
   "display_name": "Julia 1.5.3",
   "language": "julia",
   "name": "julia-1.5"
  },
  "language_info": {
   "file_extension": ".jl",
   "mimetype": "application/julia",
   "name": "julia",
   "version": "1.5.3"
  }
 },
 "nbformat": 4,
 "nbformat_minor": 4
}
